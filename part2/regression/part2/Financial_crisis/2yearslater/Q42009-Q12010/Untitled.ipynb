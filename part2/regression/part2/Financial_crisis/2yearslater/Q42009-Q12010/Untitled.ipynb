{
 "cells": [
  {
   "cell_type": "code",
   "execution_count": 1,
   "metadata": {},
   "outputs": [
    {
     "name": "stderr",
     "output_type": "stream",
     "text": [
      "/usr/local/lib/python2.7/dist-packages/statsmodels/compat/pandas.py:56: FutureWarning: The pandas.core.datetools module is deprecated and will be removed in a future version. Please use the pandas.tseries module instead.\n",
      "  from pandas.core import datetools\n"
     ]
    },
    {
     "name": "stdout",
     "output_type": "stream",
     "text": [
      "0.105073403271 0.103227283832 0.255568966305 0.256225927924 5.25238321958 5.27882053976\n"
     ]
    }
   ],
   "source": [
    "import pandas as pd\n",
    "import numpy as np\n",
    "import itertools\n",
    "import time\n",
    "import statsmodels.api as sm\n",
    "import sys\n",
    "from sklearn import datasets, linear_model\n",
    "from sklearn.metrics import mean_squared_error, mean_absolute_error\n",
    "import matplotlib.pyplot as plt\n",
    "\n",
    "df = pd.read_csv('historical_data1_Q42009_clean.csv')\n",
    "df2 = pd.read_csv('historical_data1_Q12010_clean.csv')\n",
    "\n",
    "# NOTE: DOES NOT USE mortgage_insurance_perc\n",
    "dummies = pd.get_dummies(df[['first_time_homebuyer_flag','occupancy_status', \n",
    "                             'channel','prepayment_penalty_mortgage_flag',  'loan_purpose']])\n",
    "\n",
    "y = df.orig_interest_rate\n",
    "X_ = df.drop(['first_payment_date', 'first_time_homebuyer_flag', 'maturity_date',\n",
    "              'metropolitan_stat_area', \n",
    "              'occupancy_status', 'channel', 'prepayment_penalty_mortgage_flag', 'product_type',\n",
    "             'property_state', 'property_type', 'postal_code', 'loan_sequence_no',\n",
    "             'loan_purpose', 'orig_loan_term', 'seller_name', 'service_name',\n",
    "              'orig_interest_rate','mortgage_insurance_perc'], axis=1).astype('float64')\n",
    "X = pd.concat([X_, dummies[['first_time_homebuyer_flag_Y', 'occupancy_status_I',\n",
    "                            'occupancy_status_O', 'occupancy_status_S',\n",
    "                           'channel_B', 'channel_C', 'channel_R',  'loan_purpose_C',\n",
    "                           'loan_purpose_N', 'loan_purpose_P']]], axis=1)\n",
    "\n",
    "\n",
    "# NOTE: DOES NOT USE mortgage_insurance_perc\n",
    "dummies2 = pd.get_dummies(df2[['first_time_homebuyer_flag','occupancy_status', \n",
    "                             'channel','prepayment_penalty_mortgage_flag',  'loan_purpose']])\n",
    "\n",
    "y_val = df2.orig_interest_rate\n",
    "X_val_ = df2.drop(['first_payment_date', 'first_time_homebuyer_flag', 'maturity_date',\n",
    "              'metropolitan_stat_area', \n",
    "              'occupancy_status', 'channel', 'prepayment_penalty_mortgage_flag', 'product_type',\n",
    "             'property_state', 'property_type', 'postal_code', 'loan_sequence_no',\n",
    "             'loan_purpose', 'orig_loan_term', 'seller_name', 'service_name',\n",
    "              'orig_interest_rate','mortgage_insurance_perc'], axis=1).astype('float64')\n",
    "X_val = pd.concat([X_val_, dummies2[['first_time_homebuyer_flag_Y', 'occupancy_status_I',\n",
    "                            'occupancy_status_O', 'occupancy_status_S',\n",
    "                           'channel_B', 'channel_C', 'channel_R',  'loan_purpose_C',\n",
    "                           'loan_purpose_N', 'loan_purpose_P']]], axis=1)\n",
    "\n",
    "def processSubset(feature_set):\n",
    "# Fit model on feature_set and calculate RSS\n",
    "    model = linear_model.LinearRegression()\n",
    "    model.fit(X[list(feature_set)], y)\n",
    "    \n",
    "    #MAE, RMS, MAPE\n",
    "    RMS_train = mean_squared_error(y, model.predict(X[list(feature_set)]))\n",
    "    RMS_test = mean_squared_error(y_val, model.predict(X_val[list(feature_set)]))\n",
    "    \n",
    "    MAE_train = mean_absolute_error(y, model.predict(X[list(feature_set)]))\n",
    "    MAE_test = mean_absolute_error(y_val, model.predict(X_val[list(feature_set)]))\n",
    "    \n",
    "    MAPE_train = np.mean(np.abs((y - model.predict(X[list(feature_set)])) / y)) * 100\n",
    "    MAPE_test = np.mean(np.abs((y_val - model.predict(X_val[list(feature_set)])) / y_val)) * 100\n",
    "    \n",
    "    \n",
    "    RSS = ((model.predict(X_val[list(feature_set)]) - y_val) ** 2).sum()\n",
    "    return {\"model\":model, \"RSS\":RSS, \"feature\":X[list(feature_set)], \n",
    "            \"RMS_train\": RMS_train, \"RMS_test\": RMS_test,\n",
    "            \"MAE_train\": MAE_train, \"MAE_test\": MAE_test,\n",
    "            \"MAPE_train\": MAPE_train, \"MAPE_test\": MAPE_test}\n",
    "\n",
    "feature_set = ['orig_loantovalue', 'occupancy_status_I', 'credit_score', \n",
    "               'orig_upb', 'loan_purpose_N', 'channel_R', \n",
    "               'no_borrower', 'orig_debttoincome', 'occupancy_status_S', \n",
    "               'first_time_homebuyer_flag_Y', \n",
    "               'loan_purpose_P', 'no_unit', 'occupancy_status_O', 'loan_purpose_C']\n",
    "model = processSubset(feature_set)\n",
    "\n",
    "\n",
    "print model[\"RMS_train\"], model[\"RMS_test\"],\n",
    "print model[\"MAE_train\"], model[\"MAE_test\"],\n",
    "print model[\"MAPE_train\"], model[\"MAPE_test\"],"
   ]
  },
  {
   "cell_type": "code",
   "execution_count": null,
   "metadata": {
    "collapsed": true
   },
   "outputs": [],
   "source": []
  }
 ],
 "metadata": {
  "kernelspec": {
   "display_name": "Python 2",
   "language": "python",
   "name": "python2"
  },
  "language_info": {
   "codemirror_mode": {
    "name": "ipython",
    "version": 2
   },
   "file_extension": ".py",
   "mimetype": "text/x-python",
   "name": "python",
   "nbconvert_exporter": "python",
   "pygments_lexer": "ipython2",
   "version": "2.7.12"
  }
 },
 "nbformat": 4,
 "nbformat_minor": 2
}
