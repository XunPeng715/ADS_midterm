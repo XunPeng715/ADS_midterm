{
 "cells": [
  {
   "cell_type": "code",
   "execution_count": 1,
   "metadata": {},
   "outputs": [
    {
     "name": "stderr",
     "output_type": "stream",
     "text": [
      "/usr/local/lib/python2.7/dist-packages/statsmodels/compat/pandas.py:56: FutureWarning: The pandas.core.datetools module is deprecated and will be removed in a future version. Please use the pandas.tseries module instead.\n",
      "  from pandas.core import datetools\n"
     ]
    },
    {
     "ename": "KeyError",
     "evalue": "\"['channel_T' 'prepayment_penalty_mortgage_flag_Y'] not in index\"",
     "output_type": "error",
     "traceback": [
      "\u001b[0;31m---------------------------------------------------------------------------\u001b[0m",
      "\u001b[0;31mKeyError\u001b[0m                                  Traceback (most recent call last)",
      "\u001b[0;32m<ipython-input-1-3f868625767c>\u001b[0m in \u001b[0;36m<module>\u001b[0;34m()\u001b[0m\n\u001b[1;32m     27\u001b[0m                            \u001b[0;34m'channel_B'\u001b[0m\u001b[0;34m,\u001b[0m \u001b[0;34m'channel_C'\u001b[0m\u001b[0;34m,\u001b[0m \u001b[0;34m'channel_R'\u001b[0m\u001b[0;34m,\u001b[0m \u001b[0;34m'channel_T'\u001b[0m\u001b[0;34m,\u001b[0m\u001b[0;34m\u001b[0m\u001b[0m\n\u001b[1;32m     28\u001b[0m                            \u001b[0;34m'prepayment_penalty_mortgage_flag_Y'\u001b[0m\u001b[0;34m,\u001b[0m \u001b[0;34m'loan_purpose_C'\u001b[0m\u001b[0;34m,\u001b[0m\u001b[0;34m\u001b[0m\u001b[0m\n\u001b[0;32m---> 29\u001b[0;31m                            'loan_purpose_N', 'loan_purpose_P']]], axis=1)\n\u001b[0m\u001b[1;32m     30\u001b[0m \u001b[0;34m\u001b[0m\u001b[0m\n\u001b[1;32m     31\u001b[0m \u001b[0;34m\u001b[0m\u001b[0m\n",
      "\u001b[0;32m/usr/local/lib/python2.7/dist-packages/pandas/core/frame.pyc\u001b[0m in \u001b[0;36m__getitem__\u001b[0;34m(self, key)\u001b[0m\n\u001b[1;32m   1956\u001b[0m         \u001b[0;32mif\u001b[0m \u001b[0misinstance\u001b[0m\u001b[0;34m(\u001b[0m\u001b[0mkey\u001b[0m\u001b[0;34m,\u001b[0m \u001b[0;34m(\u001b[0m\u001b[0mSeries\u001b[0m\u001b[0;34m,\u001b[0m \u001b[0mnp\u001b[0m\u001b[0;34m.\u001b[0m\u001b[0mndarray\u001b[0m\u001b[0;34m,\u001b[0m \u001b[0mIndex\u001b[0m\u001b[0;34m,\u001b[0m \u001b[0mlist\u001b[0m\u001b[0;34m)\u001b[0m\u001b[0;34m)\u001b[0m\u001b[0;34m:\u001b[0m\u001b[0;34m\u001b[0m\u001b[0m\n\u001b[1;32m   1957\u001b[0m             \u001b[0;31m# either boolean or fancy integer index\u001b[0m\u001b[0;34m\u001b[0m\u001b[0;34m\u001b[0m\u001b[0m\n\u001b[0;32m-> 1958\u001b[0;31m             \u001b[0;32mreturn\u001b[0m \u001b[0mself\u001b[0m\u001b[0;34m.\u001b[0m\u001b[0m_getitem_array\u001b[0m\u001b[0;34m(\u001b[0m\u001b[0mkey\u001b[0m\u001b[0;34m)\u001b[0m\u001b[0;34m\u001b[0m\u001b[0m\n\u001b[0m\u001b[1;32m   1959\u001b[0m         \u001b[0;32melif\u001b[0m \u001b[0misinstance\u001b[0m\u001b[0;34m(\u001b[0m\u001b[0mkey\u001b[0m\u001b[0;34m,\u001b[0m \u001b[0mDataFrame\u001b[0m\u001b[0;34m)\u001b[0m\u001b[0;34m:\u001b[0m\u001b[0;34m\u001b[0m\u001b[0m\n\u001b[1;32m   1960\u001b[0m             \u001b[0;32mreturn\u001b[0m \u001b[0mself\u001b[0m\u001b[0;34m.\u001b[0m\u001b[0m_getitem_frame\u001b[0m\u001b[0;34m(\u001b[0m\u001b[0mkey\u001b[0m\u001b[0;34m)\u001b[0m\u001b[0;34m\u001b[0m\u001b[0m\n",
      "\u001b[0;32m/usr/local/lib/python2.7/dist-packages/pandas/core/frame.pyc\u001b[0m in \u001b[0;36m_getitem_array\u001b[0;34m(self, key)\u001b[0m\n\u001b[1;32m   2000\u001b[0m             \u001b[0;32mreturn\u001b[0m \u001b[0mself\u001b[0m\u001b[0;34m.\u001b[0m\u001b[0mtake\u001b[0m\u001b[0;34m(\u001b[0m\u001b[0mindexer\u001b[0m\u001b[0;34m,\u001b[0m \u001b[0maxis\u001b[0m\u001b[0;34m=\u001b[0m\u001b[0;36m0\u001b[0m\u001b[0;34m,\u001b[0m \u001b[0mconvert\u001b[0m\u001b[0;34m=\u001b[0m\u001b[0mFalse\u001b[0m\u001b[0;34m)\u001b[0m\u001b[0;34m\u001b[0m\u001b[0m\n\u001b[1;32m   2001\u001b[0m         \u001b[0;32melse\u001b[0m\u001b[0;34m:\u001b[0m\u001b[0;34m\u001b[0m\u001b[0m\n\u001b[0;32m-> 2002\u001b[0;31m             \u001b[0mindexer\u001b[0m \u001b[0;34m=\u001b[0m \u001b[0mself\u001b[0m\u001b[0;34m.\u001b[0m\u001b[0mloc\u001b[0m\u001b[0;34m.\u001b[0m\u001b[0m_convert_to_indexer\u001b[0m\u001b[0;34m(\u001b[0m\u001b[0mkey\u001b[0m\u001b[0;34m,\u001b[0m \u001b[0maxis\u001b[0m\u001b[0;34m=\u001b[0m\u001b[0;36m1\u001b[0m\u001b[0;34m)\u001b[0m\u001b[0;34m\u001b[0m\u001b[0m\n\u001b[0m\u001b[1;32m   2003\u001b[0m             \u001b[0;32mreturn\u001b[0m \u001b[0mself\u001b[0m\u001b[0;34m.\u001b[0m\u001b[0mtake\u001b[0m\u001b[0;34m(\u001b[0m\u001b[0mindexer\u001b[0m\u001b[0;34m,\u001b[0m \u001b[0maxis\u001b[0m\u001b[0;34m=\u001b[0m\u001b[0;36m1\u001b[0m\u001b[0;34m,\u001b[0m \u001b[0mconvert\u001b[0m\u001b[0;34m=\u001b[0m\u001b[0mTrue\u001b[0m\u001b[0;34m)\u001b[0m\u001b[0;34m\u001b[0m\u001b[0m\n\u001b[1;32m   2004\u001b[0m \u001b[0;34m\u001b[0m\u001b[0m\n",
      "\u001b[0;32m/usr/local/lib/python2.7/dist-packages/pandas/core/indexing.pyc\u001b[0m in \u001b[0;36m_convert_to_indexer\u001b[0;34m(self, obj, axis, is_setter)\u001b[0m\n\u001b[1;32m   1229\u001b[0m                 \u001b[0mmask\u001b[0m \u001b[0;34m=\u001b[0m \u001b[0mcheck\u001b[0m \u001b[0;34m==\u001b[0m \u001b[0;34m-\u001b[0m\u001b[0;36m1\u001b[0m\u001b[0;34m\u001b[0m\u001b[0m\n\u001b[1;32m   1230\u001b[0m                 \u001b[0;32mif\u001b[0m \u001b[0mmask\u001b[0m\u001b[0;34m.\u001b[0m\u001b[0many\u001b[0m\u001b[0;34m(\u001b[0m\u001b[0;34m)\u001b[0m\u001b[0;34m:\u001b[0m\u001b[0;34m\u001b[0m\u001b[0m\n\u001b[0;32m-> 1231\u001b[0;31m                     \u001b[0;32mraise\u001b[0m \u001b[0mKeyError\u001b[0m\u001b[0;34m(\u001b[0m\u001b[0;34m'%s not in index'\u001b[0m \u001b[0;34m%\u001b[0m \u001b[0mobjarr\u001b[0m\u001b[0;34m[\u001b[0m\u001b[0mmask\u001b[0m\u001b[0;34m]\u001b[0m\u001b[0;34m)\u001b[0m\u001b[0;34m\u001b[0m\u001b[0m\n\u001b[0m\u001b[1;32m   1232\u001b[0m \u001b[0;34m\u001b[0m\u001b[0m\n\u001b[1;32m   1233\u001b[0m                 \u001b[0;32mreturn\u001b[0m \u001b[0m_values_from_object\u001b[0m\u001b[0;34m(\u001b[0m\u001b[0mindexer\u001b[0m\u001b[0;34m)\u001b[0m\u001b[0;34m\u001b[0m\u001b[0m\n",
      "\u001b[0;31mKeyError\u001b[0m: \"['channel_T' 'prepayment_penalty_mortgage_flag_Y'] not in index\""
     ]
    }
   ],
   "source": [
    "import pandas as pd\n",
    "import numpy as np\n",
    "import itertools\n",
    "import time\n",
    "import statsmodels.api as sm\n",
    "import sys\n",
    "from sklearn import datasets, linear_model\n",
    "from sklearn.metrics import mean_squared_error, mean_absolute_error\n",
    "import matplotlib.pyplot as plt\n",
    "\n",
    "df = pd.read_csv('historical_data1_Q12013_clean.csv')\n",
    "df2 = pd.read_csv('historical_data1_Q22013_clean.csv')\n",
    "\n",
    "# NOTE: DOES NOT USE mortgage_insurance_perc\n",
    "dummies = pd.get_dummies(df[['first_time_homebuyer_flag','occupancy_status', \n",
    "                             'channel','prepayment_penalty_mortgage_flag',  'loan_purpose']])\n",
    "\n",
    "y = df.orig_interest_rate\n",
    "X_ = df.drop(['first_payment_date', 'first_time_homebuyer_flag', 'maturity_date',\n",
    "              'metropolitan_stat_area', \n",
    "              'occupancy_status', 'channel', 'prepayment_penalty_mortgage_flag', 'product_type',\n",
    "             'property_state', 'property_type', 'postal_code', 'loan_sequence_no',\n",
    "             'loan_purpose', 'orig_loan_term', 'seller_name', 'service_name',\n",
    "              'orig_interest_rate','mortgage_insurance_perc'], axis=1).astype('float64')\n",
    "X = pd.concat([X_, dummies[['first_time_homebuyer_flag_Y', 'occupancy_status_I',\n",
    "                            'occupancy_status_O', 'occupancy_status_S',\n",
    "                           'channel_B', 'channel_C', 'channel_R',  'loan_purpose_C',\n",
    "                           'loan_purpose_N', 'loan_purpose_P']]], axis=1)\n",
    "\n",
    "\n",
    "# NOTE: DOES NOT USE mortgage_insurance_perc\n",
    "dummies2 = pd.get_dummies(df2[['first_time_homebuyer_flag','occupancy_status', \n",
    "                             'channel','prepayment_penalty_mortgage_flag',  'loan_purpose']])\n",
    "\n",
    "y_val = df2.orig_interest_rate\n",
    "X_val_ = df2.drop(['first_payment_date', 'first_time_homebuyer_flag', 'maturity_date',\n",
    "              'metropolitan_stat_area', \n",
    "              'occupancy_status', 'channel', 'prepayment_penalty_mortgage_flag', 'product_type',\n",
    "             'property_state', 'property_type', 'postal_code', 'loan_sequence_no',\n",
    "             'loan_purpose', 'orig_loan_term', 'seller_name', 'service_name',\n",
    "              'orig_interest_rate','mortgage_insurance_perc'], axis=1).astype('float64')\n",
    "X_val = pd.concat([X_val_, dummies2[['first_time_homebuyer_flag_Y', 'occupancy_status_I',\n",
    "                            'occupancy_status_O', 'occupancy_status_S',\n",
    "                           'channel_B', 'channel_C', 'channel_R', 'loan_purpose_C',\n",
    "                           'loan_purpose_N', 'loan_purpose_P']]], axis=1)\n",
    "\n",
    "def processSubset(feature_set):\n",
    "# Fit model on feature_set and calculate RSS\n",
    "    model = linear_model.LinearRegression()\n",
    "    model.fit(X[list(feature_set)], y)\n",
    "    \n",
    "    #MAE, RMS, MAPE\n",
    "    RMS_train = mean_squared_error(y, model.predict(X[list(feature_set)]))\n",
    "    RMS_test = mean_squared_error(y_val, model.predict(X_val[list(feature_set)]))\n",
    "    \n",
    "    MAE_train = mean_absolute_error(y, model.predict(X[list(feature_set)]))\n",
    "    MAE_test = mean_absolute_error(y_val, model.predict(X_val[list(feature_set)]))\n",
    "    \n",
    "    MAPE_train = np.mean(np.abs((y - model.predict(X[list(feature_set)])) / y)) * 100\n",
    "    MAPE_test = np.mean(np.abs((y_val - model.predict(X_val[list(feature_set)])) / y_val)) * 100\n",
    "    \n",
    "    \n",
    "    RSS = ((model.predict(X_val[list(feature_set)]) - y_val) ** 2).sum()\n",
    "    return {\"model\":model, \"RSS\":RSS, \"feature\":X[list(feature_set)], \n",
    "            \"RMS_train\": RMS_train, \"RMS_test\": RMS_test,\n",
    "            \"MAE_train\": MAE_train, \"MAE_test\": MAE_test,\n",
    "            \"MAPE_train\": MAPE_train, \"MAPE_test\": MAPE_test}\n",
    "\n",
    "feature_set = ['orig_loantovalue', 'occupancy_status_I', 'credit_score', \n",
    "               'orig_upb', 'loan_purpose_N', 'channel_R', \n",
    "               'no_borrower', 'orig_debttoincome', 'occupancy_status_S', \n",
    "               'first_time_homebuyer_flag_Y', \n",
    "               'loan_purpose_P', 'no_unit', 'occupancy_status_O', 'loan_purpose_C']\n",
    "model = processSubset(feature_set)\n",
    "\n",
    "\n",
    "print model[\"RMS_train\"], model[\"RMS_test\"],\n",
    "print model[\"MAE_train\"], model[\"MAE_test\"],\n",
    "print model[\"MAPE_train\"], model[\"MAPE_test\"],"
   ]
  },
  {
   "cell_type": "code",
   "execution_count": null,
   "metadata": {
    "collapsed": true
   },
   "outputs": [],
   "source": []
  }
 ],
 "metadata": {
  "kernelspec": {
   "display_name": "Python 2",
   "language": "python",
   "name": "python2"
  },
  "language_info": {
   "codemirror_mode": {
    "name": "ipython",
    "version": 2
   },
   "file_extension": ".py",
   "mimetype": "text/x-python",
   "name": "python",
   "nbconvert_exporter": "python",
   "pygments_lexer": "ipython2",
   "version": "2.7.12"
  }
 },
 "nbformat": 4,
 "nbformat_minor": 2
}
