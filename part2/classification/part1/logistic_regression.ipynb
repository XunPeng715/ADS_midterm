{
 "cells": [
  {
   "cell_type": "code",
   "execution_count": 22,
   "metadata": {
    "collapsed": true
   },
   "outputs": [],
   "source": [
    "import pandas as pd\n",
    "import numpy as np\n",
    "from sklearn.linear_model import LogisticRegression\n",
    "import itertools\n",
    "import time\n",
    "import statsmodels.api as sm\n",
    "import sys\n",
    "from sklearn import datasets\n",
    "import matplotlib.pyplot as plt\n",
    "from sklearn.linear_model import LogisticRegression\n",
    "\n",
    "# df = pd.read_csv('historical_data1_time_Q12005_clean.csv')\n",
    "df = pd.read_csv('data/Q12005.csv')\n",
    "df2 = pd.read_csv('data/Q22005.csv')"
   ]
  },
  {
   "cell_type": "code",
   "execution_count": 23,
   "metadata": {
    "collapsed": true
   },
   "outputs": [],
   "source": [
    "y = df['curr_loan_delinquency_status']\n",
    "df = df.dropna().drop(['loan_sequence_no', 'monthly_reporting_period', \n",
    "                      'curr_loan_delinquency_status'], axis=1).astype('float64')\n",
    "X = df"
   ]
  },
  {
   "cell_type": "code",
   "execution_count": 24,
   "metadata": {
    "collapsed": true
   },
   "outputs": [],
   "source": [
    "y_test = df2['curr_loan_delinquency_status']\n",
    "df2 = df2.dropna().drop(['loan_sequence_no', 'monthly_reporting_period', \n",
    "                      'curr_loan_delinquency_status'], axis=1).astype('float64')\n",
    "X_test = df2"
   ]
  },
  {
   "cell_type": "code",
   "execution_count": 25,
   "metadata": {
    "collapsed": true
   },
   "outputs": [],
   "source": [
    "def processSubset(feature_set):\n",
    "# Fit model on feature_set and calculate RSS\n",
    "    model = LogisticRegression()\n",
    "    model = model.fit(X[list(feature_set)], y)\n",
    "    Score = model.score(X_test[list(feature_set)], y_test)\n",
    "    return {\"model\":model, \"score\":Score, \"feature\":X_test[list(feature_set)]}"
   ]
  },
  {
   "cell_type": "code",
   "execution_count": 26,
   "metadata": {},
   "outputs": [
    {
     "name": "stdout",
     "output_type": "stream",
     "text": [
      "('Processed ', 5, 'models on', 1, 'predictors in', 1.5592668056488037, 'seconds.')\n",
      "feature            loan_age\n",
      "0          108.0\n",
      "1          1...\n",
      "model      LogisticRegression(C=1.0, class_weight=None, d...\n",
      "score                                               0.597732\n",
      "Name: 1, dtype: object\n",
      "('Processed ', 4, 'models on', 2, 'predictors in', 2.5891900062561035, 'seconds.')\n",
      "feature            loan_age  remaining_months_to_legal_ma...\n",
      "model      LogisticRegression(C=1.0, class_weight=None, d...\n",
      "score                                               0.610301\n",
      "Name: 1, dtype: object\n",
      "('Processed ', 3, 'models on', 3, 'predictors in', 2.777255058288574, 'seconds.')\n",
      "feature            loan_age  remaining_months_to_legal_ma...\n",
      "model      LogisticRegression(C=1.0, class_weight=None, d...\n",
      "score                                                 0.6154\n",
      "Name: 1, dtype: object\n",
      "('Processed ', 2, 'models on', 4, 'predictors in', 1.872075080871582, 'seconds.')\n",
      "feature            loan_age  remaining_months_to_legal_ma...\n",
      "model      LogisticRegression(C=1.0, class_weight=None, d...\n",
      "score                                               0.598827\n",
      "Name: 0, dtype: object\n",
      "('Processed ', 1, 'models on', 5, 'predictors in', 0.9578979015350342, 'seconds.')\n",
      "feature            loan_age  remaining_months_to_legal_ma...\n",
      "model      LogisticRegression(C=1.0, class_weight=None, d...\n",
      "score                                               0.597682\n",
      "Name: 0, dtype: object\n",
      "('Total elapsed time:', 9.830235958099365, 'seconds.')\n",
      "['loan_age', 'remaining_months_to_legal_maturity', 'curr_interest_rate', 'curr_actual_upb', 'curr_deferred_upb']\n"
     ]
    }
   ],
   "source": [
    "def forward(predictors):\n",
    "    # Pull out predictors we still need to process\n",
    "    remaining_predictors = [p for p in X.columns if p not in predictors]\n",
    "    tic = time.time()\n",
    "    results = []\n",
    "    for p in remaining_predictors:\n",
    "        model = processSubset(predictors+[p])\n",
    "        results.append(model)\n",
    "        \n",
    "    # Wrap everything up in a nice dataframe\n",
    "    models = pd.DataFrame(results)\n",
    "    # Choose the model with the highest RSS\n",
    "    best_model = models.loc[models['score'].argmax()]\n",
    "    toc = time.time()\n",
    "    print(\"Processed \", models.shape[0], \"models on\", len(predictors)+1, \"predictors in\", (toc-tic), \"seconds.\")\n",
    "    # Return the best model, along with some other useful information about the model\n",
    "    print best_model\n",
    "    return best_model\n",
    "\n",
    "models2 = pd.DataFrame(columns=[\"score\", \"model\", \"feature\"])\n",
    "tic = time.time()\n",
    "predictors = []\n",
    "\n",
    "for i in range(1,len(X.columns)+1):\n",
    "    models2.loc[i] = forward(predictors)\n",
    "    predictors = list(models2.loc[i][\"feature\"])\n",
    "    \n",
    "toc = time.time()\n",
    "print(\"Total elapsed time:\", (toc-tic), \"seconds.\")\n",
    "print predictors"
   ]
  },
  {
   "cell_type": "code",
   "execution_count": 27,
   "metadata": {},
   "outputs": [
    {
     "data": {
      "text/html": [
       "<div>\n",
       "<style>\n",
       "    .dataframe thead tr:only-child th {\n",
       "        text-align: right;\n",
       "    }\n",
       "\n",
       "    .dataframe thead th {\n",
       "        text-align: left;\n",
       "    }\n",
       "\n",
       "    .dataframe tbody tr th {\n",
       "        vertical-align: top;\n",
       "    }\n",
       "</style>\n",
       "<table border=\"1\" class=\"dataframe\">\n",
       "  <thead>\n",
       "    <tr style=\"text-align: right;\">\n",
       "      <th></th>\n",
       "      <th>score</th>\n",
       "      <th>model</th>\n",
       "      <th>feature</th>\n",
       "    </tr>\n",
       "  </thead>\n",
       "  <tbody>\n",
       "    <tr>\n",
       "      <th>1</th>\n",
       "      <td>0.597732</td>\n",
       "      <td>LogisticRegression(C=1.0, class_weight=None, d...</td>\n",
       "      <td>loan_age\n",
       "0          108.0\n",
       "1          1...</td>\n",
       "    </tr>\n",
       "    <tr>\n",
       "      <th>2</th>\n",
       "      <td>0.610301</td>\n",
       "      <td>LogisticRegression(C=1.0, class_weight=None, d...</td>\n",
       "      <td>loan_age  remaining_months_to_legal_ma...</td>\n",
       "    </tr>\n",
       "    <tr>\n",
       "      <th>3</th>\n",
       "      <td>0.615400</td>\n",
       "      <td>LogisticRegression(C=1.0, class_weight=None, d...</td>\n",
       "      <td>loan_age  remaining_months_to_legal_ma...</td>\n",
       "    </tr>\n",
       "    <tr>\n",
       "      <th>4</th>\n",
       "      <td>0.598827</td>\n",
       "      <td>LogisticRegression(C=1.0, class_weight=None, d...</td>\n",
       "      <td>loan_age  remaining_months_to_legal_ma...</td>\n",
       "    </tr>\n",
       "    <tr>\n",
       "      <th>5</th>\n",
       "      <td>0.597682</td>\n",
       "      <td>LogisticRegression(C=1.0, class_weight=None, d...</td>\n",
       "      <td>loan_age  remaining_months_to_legal_ma...</td>\n",
       "    </tr>\n",
       "  </tbody>\n",
       "</table>\n",
       "</div>"
      ],
      "text/plain": [
       "      score                                              model  \\\n",
       "1  0.597732  LogisticRegression(C=1.0, class_weight=None, d...   \n",
       "2  0.610301  LogisticRegression(C=1.0, class_weight=None, d...   \n",
       "3  0.615400  LogisticRegression(C=1.0, class_weight=None, d...   \n",
       "4  0.598827  LogisticRegression(C=1.0, class_weight=None, d...   \n",
       "5  0.597682  LogisticRegression(C=1.0, class_weight=None, d...   \n",
       "\n",
       "                                             feature  \n",
       "1          loan_age\n",
       "0          108.0\n",
       "1          1...  \n",
       "2          loan_age  remaining_months_to_legal_ma...  \n",
       "3          loan_age  remaining_months_to_legal_ma...  \n",
       "4          loan_age  remaining_months_to_legal_ma...  \n",
       "5          loan_age  remaining_months_to_legal_ma...  "
      ]
     },
     "execution_count": 27,
     "metadata": {},
     "output_type": "execute_result"
    }
   ],
   "source": [
    "models2"
   ]
  },
  {
   "cell_type": "code",
   "execution_count": 33,
   "metadata": {
    "collapsed": true
   },
   "outputs": [],
   "source": [
    "def getBestModel(models):\n",
    "    length = len(models.index)\n",
    "    bestModel = models.loc[1]\n",
    "    score = models.loc[1][\"score\"]\n",
    "    for i in range (1, length + 1):\n",
    "        if models.loc[i][\"score\"] > score:\n",
    "            bestModel = models.loc[i]\n",
    "            score = models.loc[i][\"score\"]\n",
    "    return bestModel"
   ]
  },
  {
   "cell_type": "code",
   "execution_count": 34,
   "metadata": {
    "collapsed": true
   },
   "outputs": [],
   "source": [
    "bestmodel_forward = getBestModel(models2)"
   ]
  },
  {
   "cell_type": "markdown",
   "metadata": {},
   "source": [
    "# ROC curve and Confusion matrices for testing datasets"
   ]
  },
  {
   "cell_type": "code",
   "execution_count": 35,
   "metadata": {
    "collapsed": true
   },
   "outputs": [],
   "source": [
    " y_test_predicted = bestmodel_forward[\"model\"].predict(X_test[list(bestmodel_forward[\"feature\"])])"
   ]
  },
  {
   "cell_type": "code",
   "execution_count": 36,
   "metadata": {},
   "outputs": [
    {
     "name": "stdout",
     "output_type": "stream",
     "text": [
      "[[184960  45401]\n",
      " [116096  73452]]\n"
     ]
    }
   ],
   "source": [
    "from sklearn import metrics\n",
    "conf_mat_logred = metrics.confusion_matrix(y_test, y_test_predicted)\n",
    "print(conf_mat_logred)"
   ]
  },
  {
   "cell_type": "code",
   "execution_count": 37,
   "metadata": {},
   "outputs": [
    {
     "data": {
      "text/plain": [
       "0.61540000333405576"
      ]
     },
     "execution_count": 37,
     "metadata": {},
     "output_type": "execute_result"
    }
   ],
   "source": [
    "bestmodel_forward[\"model\"].score(X_test[list(bestmodel_forward[\"feature\"])], y_test)"
   ]
  },
  {
   "cell_type": "code",
   "execution_count": 40,
   "metadata": {},
   "outputs": [
    {
     "name": "stdout",
     "output_type": "stream",
     "text": [
      "('Logred', '             precision    recall  f1-score   support\\n\\n          0       0.61      0.80      0.70    230361\\n          1       0.62      0.39      0.48    189548\\n\\navg / total       0.62      0.62      0.60    419909\\n')\n"
     ]
    },
    {
     "data": {
      "image/png": "[encoded data removed]",
      "text/plain": [
       "<matplotlib.figure.Figure at 0x7efca65684d0>"
      ]
     },
     "metadata": {},
     "output_type": "display_data"
    }
   ],
   "source": [
    "from sklearn import metrics\n",
    "from sklearn.metrics import classification_report\n",
    "from multiprocessing import Process, Lock, Manager\n",
    "import matplotlib.pyplot as plt\n",
    "\n",
    "manager = Manager()\n",
    "return_dict_logred=manager.dict()\n",
    "# Compute ROC curve and AUC (Area under the Curve)\n",
    "false_positive_rate, true_positive_rate, thresholds = metrics.roc_curve(y_test, y_test_predicted)\n",
    "    \n",
    "roc_auc_logred = metrics.auc(false_positive_rate, true_positive_rate)\n",
    "return_dict_logred['roc_auc_logred']=roc_auc_logred\n",
    "return_dict_logred['conf_mat_logred']=conf_mat_logred\n",
    "    \n",
    "report = classification_report(y_test, y_test_predicted)\n",
    "print(\"Logred\",report)\n",
    "    \n",
    "## Plot ROC Curve\n",
    "plt.title(\"Logistic Regression\")\n",
    "plt.plot(false_positive_rate, true_positive_rate, 'b',\n",
    "label='AUC = %0.2f'% roc_auc_logred)\n",
    "plt.legend(loc='lower right')\n",
    "plt.plot([0,1],[0,1],'r--')\n",
    "plt.xlim([0.0,1.0])\n",
    "plt.ylim([0.0,1.0])\n",
    "plt.ylabel('True Positive Rate')\n",
    "plt.xlabel('False Positive Rate')\n",
    "plt.show()"
   ]
  },
  {
   "cell_type": "markdown",
   "metadata": {},
   "source": [
    "# ROC curve and Confusion matrices for training datasets"
   ]
  },
  {
   "cell_type": "code",
   "execution_count": 41,
   "metadata": {
    "collapsed": true
   },
   "outputs": [],
   "source": [
    " y_predicted = bestmodel_forward[\"model\"].predict(X[list(bestmodel_forward[\"feature\"])])"
   ]
  },
  {
   "cell_type": "code",
   "execution_count": 42,
   "metadata": {},
   "outputs": [
    {
     "name": "stdout",
     "output_type": "stream",
     "text": [
      "[[155846  39821]\n",
      " [ 89847  58540]]\n"
     ]
    }
   ],
   "source": [
    "conf_mat_logred_training = metrics.confusion_matrix(y, y_predicted)\n",
    "print(conf_mat_logred_training)"
   ]
  },
  {
   "cell_type": "code",
   "execution_count": 43,
   "metadata": {},
   "outputs": [
    {
     "data": {
      "text/plain": [
       "0.62311730135385723"
      ]
     },
     "execution_count": 43,
     "metadata": {},
     "output_type": "execute_result"
    }
   ],
   "source": [
    "bestmodel_forward[\"model\"].score(X[list(bestmodel_forward[\"feature\"])], y)"
   ]
  },
  {
   "cell_type": "code",
   "execution_count": 44,
   "metadata": {},
   "outputs": [
    {
     "name": "stdout",
     "output_type": "stream",
     "text": [
      "('Logred', '             precision    recall  f1-score   support\\n\\n          0       0.63      0.80      0.71    195667\\n          1       0.60      0.39      0.47    148387\\n\\navg / total       0.62      0.62      0.61    344054\\n')\n"
     ]
    },
    {
     "data": {
      "image/png": "[encoded data removed]",
      "text/plain": [
       "<matplotlib.figure.Figure at 0x7efca65688d0>"
      ]
     },
     "metadata": {},
     "output_type": "display_data"
    }
   ],
   "source": [
    "from sklearn import metrics\n",
    "from sklearn.metrics import classification_report\n",
    "from multiprocessing import Process, Lock, Manager\n",
    "import matplotlib.pyplot as plt\n",
    "\n",
    "manager = Manager()\n",
    "return_dict_logred=manager.dict()\n",
    "# Compute ROC curve and AUC (Area under the Curve)\n",
    "false_positive_rate, true_positive_rate, thresholds = metrics.roc_curve(y, y_predicted)\n",
    "    \n",
    "roc_auc_logred = metrics.auc(false_positive_rate, true_positive_rate)\n",
    "return_dict_logred['roc_auc_logred']=roc_auc_logred\n",
    "return_dict_logred['conf_mat_logred']=conf_mat_logred\n",
    "    \n",
    "report = classification_report(y, y_predicted)\n",
    "print(\"Logred\",report)\n",
    "    \n",
    "## Plot ROC Curve\n",
    "plt.title(\"Logistic Regression\")\n",
    "plt.plot(false_positive_rate, true_positive_rate, 'b',\n",
    "label='AUC = %0.2f'% roc_auc_logred)\n",
    "plt.legend(loc='lower right')\n",
    "plt.plot([0,1],[0,1],'r--')\n",
    "plt.xlim([0.0,1.0])\n",
    "plt.ylim([0.0,1.0])\n",
    "plt.ylabel('True Positive Rate')\n",
    "plt.xlabel('False Positive Rate')\n",
    "plt.show()"
   ]
  }
 ],
 "metadata": {
  "kernelspec": {
   "display_name": "Python 2",
   "language": "python",
   "name": "python2"
  },
  "language_info": {
   "codemirror_mode": {
    "name": "ipython",
    "version": 2
   },
   "file_extension": ".py",
   "mimetype": "text/x-python",
   "name": "python",
   "nbconvert_exporter": "python",
   "pygments_lexer": "ipython2",
   "version": "2.7.12"
  }
 },
 "nbformat": 4,
 "nbformat_minor": 2
}
