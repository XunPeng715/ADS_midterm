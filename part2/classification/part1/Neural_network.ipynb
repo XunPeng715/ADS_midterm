{
 "cells": [
  {
   "cell_type": "code",
   "execution_count": 1,
   "metadata": {},
   "outputs": [
    {
     "name": "stderr",
     "output_type": "stream",
     "text": [
      "/usr/local/lib/python2.7/dist-packages/statsmodels/compat/pandas.py:56: FutureWarning: The pandas.core.datetools module is deprecated and will be removed in a future version. Please use the pandas.tseries module instead.\n",
      "  from pandas.core import datetools\n"
     ]
    }
   ],
   "source": [
    "import pandas as pd\n",
    "import numpy as np\n",
    "import itertools\n",
    "import time\n",
    "import statsmodels.api as sm\n",
    "import sys\n",
    "from sklearn import datasets\n",
    "import matplotlib.pyplot as plt\n",
    "from sklearn.neural_network import MLPClassifier\n",
    "\n",
    "df = pd.read_csv('data/Q12005.csv')\n",
    "df2 = pd.read_csv('data/Q22005.csv')"
   ]
  },
  {
   "cell_type": "code",
   "execution_count": 2,
   "metadata": {
    "collapsed": true
   },
   "outputs": [],
   "source": [
    "y = df['curr_loan_delinquency_status']\n",
    "df = df.dropna().drop(['loan_sequence_no', 'monthly_reporting_period', \n",
    "                      'curr_loan_delinquency_status'], axis=1).astype('float64')\n",
    "X = df"
   ]
  },
  {
   "cell_type": "code",
   "execution_count": 3,
   "metadata": {
    "collapsed": true
   },
   "outputs": [],
   "source": [
    "y_test = df2['curr_loan_delinquency_status']\n",
    "df2 = df2.dropna().drop(['loan_sequence_no', 'monthly_reporting_period', \n",
    "                      'curr_loan_delinquency_status'], axis=1).astype('float64')\n",
    "X_test = df2"
   ]
  },
  {
   "cell_type": "code",
   "execution_count": 4,
   "metadata": {
    "collapsed": true
   },
   "outputs": [],
   "source": [
    "def processSubset(feature_set):\n",
    "# Fit model on feature_set and calculate RSS\n",
    "    model = MLPClassifier()\n",
    "    model = model.fit(X[list(feature_set)], y)\n",
    "    Score = model.score(X_test[list(feature_set)], y_test)\n",
    "    return {\"model\":model, \"score\":Score, \"feature\":X_test[list(feature_set)]}"
   ]
  },
  {
   "cell_type": "code",
   "execution_count": 5,
   "metadata": {},
   "outputs": [
    {
     "name": "stdout",
     "output_type": "stream",
     "text": [
      "('Processed ', 5, 'models on', 1, 'predictors in', 51.35626196861267, 'seconds.')\n",
      "feature            loan_age\n",
      "0          108.0\n",
      "1          1...\n",
      "model      MLPClassifier(activation='relu', alpha=0.0001,...\n",
      "score                                               0.636085\n",
      "Name: 1, dtype: object\n",
      "('Processed ', 4, 'models on', 2, 'predictors in', 118.10097312927246, 'seconds.')\n",
      "feature            loan_age  curr_interest_rate\n",
      "0        ...\n",
      "model      MLPClassifier(activation='relu', alpha=0.0001,...\n",
      "score                                                 0.6481\n",
      "Name: 2, dtype: object\n",
      "('Processed ', 3, 'models on', 3, 'predictors in', 240.86283111572266, 'seconds.')\n",
      "feature            loan_age  curr_interest_rate  curr_def...\n",
      "model      MLPClassifier(activation='relu', alpha=0.0001,...\n",
      "score                                               0.649255\n",
      "Name: 2, dtype: object\n",
      "('Processed ', 2, 'models on', 4, 'predictors in', 105.34925818443298, 'seconds.')\n",
      "feature            loan_age  curr_interest_rate  curr_def...\n",
      "model      MLPClassifier(activation='relu', alpha=0.0001,...\n",
      "score                                               0.606046\n",
      "Name: 1, dtype: object\n",
      "('Processed ', 1, 'models on', 5, 'predictors in', 12.594977855682373, 'seconds.')\n",
      "feature            loan_age  curr_interest_rate  curr_def...\n",
      "model      MLPClassifier(activation='relu', alpha=0.0001,...\n",
      "score                                               0.548693\n",
      "Name: 0, dtype: object\n",
      "('Total elapsed time:', 528.340194940567, 'seconds.')\n",
      "['loan_age', 'curr_interest_rate', 'curr_deferred_upb', 'remaining_months_to_legal_maturity', 'curr_actual_upb']\n"
     ]
    }
   ],
   "source": [
    "def forward(predictors):\n",
    "    # Pull out predictors we still need to process\n",
    "    remaining_predictors = [p for p in X.columns if p not in predictors]\n",
    "    tic = time.time()\n",
    "    results = []\n",
    "    for p in remaining_predictors:\n",
    "        model = processSubset(predictors+[p])\n",
    "        results.append(model)\n",
    "        \n",
    "    # Wrap everything up in a nice dataframe\n",
    "    models = pd.DataFrame(results)\n",
    "    # Choose the model with the highest RSS\n",
    "    best_model = models.loc[models['score'].argmax()]\n",
    "    toc = time.time()\n",
    "    print(\"Processed \", models.shape[0], \"models on\", len(predictors)+1, \"predictors in\", (toc-tic), \"seconds.\")\n",
    "    # Return the best model, along with some other useful information about the model\n",
    "    print best_model\n",
    "    return best_model\n",
    "\n",
    "models2 = pd.DataFrame(columns=[\"score\", \"model\", \"feature\"])\n",
    "tic = time.time()\n",
    "predictors = []\n",
    "\n",
    "for i in range(1,len(X.columns)+1):\n",
    "    models2.loc[i] = forward(predictors)\n",
    "    predictors = list(models2.loc[i][\"feature\"])\n",
    "    \n",
    "toc = time.time()\n",
    "print(\"Total elapsed time:\", (toc-tic), \"seconds.\")\n",
    "print predictors"
   ]
  },
  {
   "cell_type": "code",
   "execution_count": 6,
   "metadata": {
    "collapsed": true
   },
   "outputs": [],
   "source": [
    "def getBestModel(models):\n",
    "    length = len(models.index)\n",
    "    bestModel = models.loc[1]\n",
    "    score = models.loc[1][\"score\"]\n",
    "    for i in range (1, length + 1):\n",
    "        if models.loc[i][\"score\"] > score:\n",
    "            bestModel = models.loc[i]\n",
    "            score = models.loc[i][\"score\"]\n",
    "    return bestModel\n",
    "\n",
    "bestmodel_forward = getBestModel(models2)"
   ]
  },
  {
   "cell_type": "markdown",
   "metadata": {},
   "source": [
    "# ROC curve and Confusion matrices for testing datasets"
   ]
  },
  {
   "cell_type": "code",
   "execution_count": 7,
   "metadata": {},
   "outputs": [
    {
     "name": "stdout",
     "output_type": "stream",
     "text": [
      "[[122841 107520]\n",
      " [ 39761 149787]]\n"
     ]
    }
   ],
   "source": [
    "y_test_predicted = bestmodel_forward[\"model\"].predict(X_test[list(bestmodel_forward[\"feature\"])])\n",
    "\n",
    "from sklearn import metrics\n",
    "conf_mat_logred = metrics.confusion_matrix(y_test, y_test_predicted)\n",
    "print(conf_mat_logred)"
   ]
  },
  {
   "cell_type": "code",
   "execution_count": 8,
   "metadata": {},
   "outputs": [
    {
     "name": "stdout",
     "output_type": "stream",
     "text": [
      "0.649254957622\n"
     ]
    }
   ],
   "source": [
    "print(bestmodel_forward[\"model\"].score(X_test[list(bestmodel_forward[\"feature\"])], y_test))"
   ]
  },
  {
   "cell_type": "code",
   "execution_count": 9,
   "metadata": {},
   "outputs": [
    {
     "name": "stdout",
     "output_type": "stream",
     "text": [
      "('Logred', '             precision    recall  f1-score   support\\n\\n          0       0.76      0.53      0.63    230361\\n          1       0.58      0.79      0.67    189548\\n\\navg / total       0.68      0.65      0.65    419909\\n')\n"
     ]
    },
    {
     "data": {
      "image/png": "[encoded data removed]",
      "text/plain": [
       "<matplotlib.figure.Figure at 0x7fce256d2510>"
      ]
     },
     "metadata": {},
     "output_type": "display_data"
    }
   ],
   "source": [
    "from sklearn import metrics\n",
    "from sklearn.metrics import classification_report\n",
    "from multiprocessing import Process, Lock, Manager\n",
    "import matplotlib.pyplot as plt\n",
    "\n",
    "manager = Manager()\n",
    "return_dict_logred=manager.dict()\n",
    "# Compute ROC curve and AUC (Area under the Curve)\n",
    "false_positive_rate, true_positive_rate, thresholds = metrics.roc_curve(y_test, y_test_predicted)\n",
    "    \n",
    "roc_auc_logred = metrics.auc(false_positive_rate, true_positive_rate)\n",
    "return_dict_logred['roc_auc_logred']=roc_auc_logred\n",
    "return_dict_logred['conf_mat_logred']=conf_mat_logred\n",
    "    \n",
    "report = classification_report(y_test, y_test_predicted)\n",
    "print(\"Logred\",report)\n",
    "    \n",
    "## Plot ROC Curve\n",
    "plt.title(\"Logistic Regression\")\n",
    "plt.plot(false_positive_rate, true_positive_rate, 'b',\n",
    "label='AUC = %0.2f'% roc_auc_logred)\n",
    "plt.legend(loc='lower right')\n",
    "plt.plot([0,1],[0,1],'r--')\n",
    "plt.xlim([0.0,1.0])\n",
    "plt.ylim([0.0,1.0])\n",
    "plt.ylabel('True Positive Rate')\n",
    "plt.xlabel('False Positive Rate')\n",
    "plt.show()"
   ]
  },
  {
   "cell_type": "markdown",
   "metadata": {},
   "source": [
    "# ROC curve and Confusion matrices for training datasets"
   ]
  },
  {
   "cell_type": "code",
   "execution_count": 10,
   "metadata": {
    "collapsed": true
   },
   "outputs": [],
   "source": [
    " y_predicted = bestmodel_forward[\"model\"].predict(X[list(bestmodel_forward[\"feature\"])])"
   ]
  },
  {
   "cell_type": "code",
   "execution_count": 11,
   "metadata": {},
   "outputs": [
    {
     "name": "stdout",
     "output_type": "stream",
     "text": [
      "[[109145  86522]\n",
      " [ 36000 112387]]\n"
     ]
    }
   ],
   "source": [
    "conf_mat_logred_training = metrics.confusion_matrix(y, y_predicted)\n",
    "print(conf_mat_logred_training)"
   ]
  },
  {
   "cell_type": "code",
   "execution_count": 12,
   "metadata": {},
   "outputs": [
    {
     "data": {
      "text/plain": [
       "0.64388729676155487"
      ]
     },
     "execution_count": 12,
     "metadata": {},
     "output_type": "execute_result"
    }
   ],
   "source": [
    "bestmodel_forward[\"model\"].score(X[list(bestmodel_forward[\"feature\"])], y)"
   ]
  },
  {
   "cell_type": "code",
   "execution_count": 13,
   "metadata": {},
   "outputs": [
    {
     "name": "stdout",
     "output_type": "stream",
     "text": [
      "('Logred', '             precision    recall  f1-score   support\\n\\n          0       0.75      0.56      0.64    195667\\n          1       0.57      0.76      0.65    148387\\n\\navg / total       0.67      0.64      0.64    344054\\n')\n"
     ]
    },
    {
     "data": {
      "image/png": "[encoded data removed]",
      "text/plain": [
       "<matplotlib.figure.Figure at 0x7fcdf8709e50>"
      ]
     },
     "metadata": {},
     "output_type": "display_data"
    }
   ],
   "source": [
    "from sklearn import metrics\n",
    "from sklearn.metrics import classification_report\n",
    "from multiprocessing import Process, Lock, Manager\n",
    "import matplotlib.pyplot as plt\n",
    "\n",
    "manager = Manager()\n",
    "return_dict_logred=manager.dict()\n",
    "# Compute ROC curve and AUC (Area under the Curve)\n",
    "false_positive_rate, true_positive_rate, thresholds = metrics.roc_curve(y, y_predicted)\n",
    "    \n",
    "roc_auc_logred = metrics.auc(false_positive_rate, true_positive_rate)\n",
    "return_dict_logred['roc_auc_logred']=roc_auc_logred\n",
    "return_dict_logred['conf_mat_logred']=conf_mat_logred\n",
    "    \n",
    "report = classification_report(y, y_predicted)\n",
    "print(\"Logred\",report)\n",
    "    \n",
    "## Plot ROC Curve\n",
    "plt.title(\"Logistic Regression\")\n",
    "plt.plot(false_positive_rate, true_positive_rate, 'b',\n",
    "label='AUC = %0.2f'% roc_auc_logred)\n",
    "plt.legend(loc='lower right')\n",
    "plt.plot([0,1],[0,1],'r--')\n",
    "plt.xlim([0.0,1.0])\n",
    "plt.ylim([0.0,1.0])\n",
    "plt.ylabel('True Positive Rate')\n",
    "plt.xlabel('False Positive Rate')\n",
    "plt.show()"
   ]
  }
 ],
 "metadata": {
  "kernelspec": {
   "display_name": "Python 2",
   "language": "python",
   "name": "python2"
  },
  "language_info": {
   "codemirror_mode": {
    "name": "ipython",
    "version": 2
   },
   "file_extension": ".py",
   "mimetype": "text/x-python",
   "name": "python",
   "nbconvert_exporter": "python",
   "pygments_lexer": "ipython2",
   "version": "2.7.12"
  }
 },
 "nbformat": 4,
 "nbformat_minor": 2
}
