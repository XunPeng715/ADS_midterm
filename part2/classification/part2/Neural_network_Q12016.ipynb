{
 "cells": [
  {
   "cell_type": "code",
   "execution_count": 1,
   "metadata": {},
   "outputs": [
    {
     "name": "stderr",
     "output_type": "stream",
     "text": [
      "/usr/local/lib/python2.7/dist-packages/statsmodels/compat/pandas.py:56: FutureWarning: The pandas.core.datetools module is deprecated and will be removed in a future version. Please use the pandas.tseries module instead.\n",
      "  from pandas.core import datetools\n"
     ]
    }
   ],
   "source": [
    "import pandas as pd\n",
    "import numpy as np\n",
    "import itertools\n",
    "import time\n",
    "import statsmodels.api as sm\n",
    "import sys\n",
    "from sklearn import datasets\n",
    "import matplotlib.pyplot as plt\n",
    "from sklearn.neural_network import MLPClassifier\n",
    "\n",
    "df = pd.read_csv('historical_data1_time_Q12016_clean.csv')"
   ]
  },
  {
   "cell_type": "code",
   "execution_count": 2,
   "metadata": {
    "collapsed": true
   },
   "outputs": [],
   "source": [
    "y = df['curr_loan_delinquency_status']\n",
    "df = df.dropna().drop(['loan_sequence_no', 'monthly_reporting_period', \n",
    "                      'curr_loan_delinquency_status'], axis=1).astype('float64')\n",
    "X = df"
   ]
  },
  {
   "cell_type": "code",
   "execution_count": 3,
   "metadata": {
    "collapsed": true
   },
   "outputs": [],
   "source": [
    "def processSubset(feature_set):\n",
    "# Fit model on feature_set and calculate RSS\n",
    "    model = MLPClassifier()\n",
    "    model = model.fit(X[list(feature_set)], y)\n",
    "    Score = model.score(X[list(feature_set)], y)\n",
    "    return {\"model\":model, \"score\":Score, \"feature\":X[list(feature_set)]}"
   ]
  },
  {
   "cell_type": "code",
   "execution_count": 4,
   "metadata": {},
   "outputs": [
    {
     "name": "stdout",
     "output_type": "stream",
     "text": [
      "('Processed ', 5, 'models on', 1, 'predictors in', 1.5954430103302002, 'seconds.')\n",
      "feature           curr_interest_rate\n",
      "0                   ...\n",
      "model      MLPClassifier(activation='relu', alpha=0.0001,...\n",
      "score                                               0.601016\n",
      "Name: 3, dtype: object\n",
      "('Processed ', 4, 'models on', 2, 'predictors in', 1.7680981159210205, 'seconds.')\n",
      "feature           curr_interest_rate  loan_age\n",
      "0         ...\n",
      "model      MLPClassifier(activation='relu', alpha=0.0001,...\n",
      "score                                               0.631094\n",
      "Name: 1, dtype: object\n",
      "('Processed ', 3, 'models on', 3, 'predictors in', 1.1599838733673096, 'seconds.')\n",
      "feature           curr_interest_rate  loan_age  curr_defe...\n",
      "model      MLPClassifier(activation='relu', alpha=0.0001,...\n",
      "score                                               0.638281\n",
      "Name: 2, dtype: object\n",
      "('Processed ', 2, 'models on', 4, 'predictors in', 1.193972110748291, 'seconds.')\n",
      "feature           curr_interest_rate  loan_age  curr_defe...\n",
      "model      MLPClassifier(activation='relu', alpha=0.0001,...\n",
      "score                                               0.577812\n",
      "Name: 1, dtype: object\n",
      "('Processed ', 1, 'models on', 5, 'predictors in', 0.2702040672302246, 'seconds.')\n",
      "feature           curr_interest_rate  loan_age  curr_defe...\n",
      "model      MLPClassifier(activation='relu', alpha=0.0001,...\n",
      "score                                               0.500156\n",
      "Name: 0, dtype: object\n",
      "('Total elapsed time:', 6.05557107925415, 'seconds.')\n",
      "['curr_interest_rate', 'loan_age', 'curr_deferred_upb', 'remaining_months_to_legal_maturity', 'curr_actual_upb']\n"
     ]
    }
   ],
   "source": [
    "def forward(predictors):\n",
    "    # Pull out predictors we still need to process\n",
    "    remaining_predictors = [p for p in X.columns if p not in predictors]\n",
    "    tic = time.time()\n",
    "    results = []\n",
    "    for p in remaining_predictors:\n",
    "        model = processSubset(predictors+[p])\n",
    "        results.append(model)\n",
    "        \n",
    "    # Wrap everything up in a nice dataframe\n",
    "    models = pd.DataFrame(results)\n",
    "    # Choose the model with the highest RSS\n",
    "    best_model = models.loc[models['score'].argmax()]\n",
    "    toc = time.time()\n",
    "    print(\"Processed \", models.shape[0], \"models on\", len(predictors)+1, \"predictors in\", (toc-tic), \"seconds.\")\n",
    "    # Return the best model, along with some other useful information about the model\n",
    "    print best_model\n",
    "    return best_model\n",
    "\n",
    "models2 = pd.DataFrame(columns=[\"score\", \"model\", \"feature\"])\n",
    "tic = time.time()\n",
    "predictors = []\n",
    "\n",
    "for i in range(1,len(X.columns)+1):\n",
    "    models2.loc[i] = forward(predictors)\n",
    "    predictors = list(models2.loc[i][\"feature\"])\n",
    "    \n",
    "toc = time.time()\n",
    "print(\"Total elapsed time:\", (toc-tic), \"seconds.\")\n",
    "print predictors"
   ]
  },
  {
   "cell_type": "code",
   "execution_count": 5,
   "metadata": {
    "collapsed": true
   },
   "outputs": [],
   "source": [
    "def getBestModel(models):\n",
    "    length = len(models.index)\n",
    "    bestModel = models.loc[1]\n",
    "    score = models.loc[1][\"score\"]\n",
    "    for i in range (1, length + 1):\n",
    "        if models.loc[i][\"score\"] > score:\n",
    "            bestModel = models.loc[i]\n",
    "            score = models.loc[i][\"score\"]\n",
    "    return bestModel\n",
    "\n",
    "bestmodel_forward = getBestModel(models2)"
   ]
  },
  {
   "cell_type": "markdown",
   "metadata": {},
   "source": [
    "# ROC curve and Confusion matrices for training datasets"
   ]
  },
  {
   "cell_type": "markdown",
   "metadata": {},
   "source": [
    "## we are using TPR(True Positive Rate) and FPR(False Positive Rate)\n",
    "## TPR = TP / (TP + FN)    and     FPR = FP / (FP + TN)\n",
    "## TP = True Positive    FN = Flase Negative\n",
    "## FP = Flase Positve   TN = True Negative"
   ]
  },
  {
   "cell_type": "code",
   "execution_count": 6,
   "metadata": {
    "collapsed": true
   },
   "outputs": [],
   "source": [
    " y_predicted = bestmodel_forward[\"model\"].predict(X[list(bestmodel_forward[\"feature\"])])"
   ]
  },
  {
   "cell_type": "code",
   "execution_count": 8,
   "metadata": {},
   "outputs": [
    {
     "name": "stdout",
     "output_type": "stream",
     "text": [
      "[[3345 3055]\n",
      " [1575 4825]]\n"
     ]
    }
   ],
   "source": [
    "from sklearn import metrics\n",
    "conf_mat_logred_training = metrics.confusion_matrix(y, y_predicted)\n",
    "print(conf_mat_logred_training)"
   ]
  },
  {
   "cell_type": "code",
   "execution_count": 10,
   "metadata": {},
   "outputs": [
    {
     "data": {
      "text/plain": [
       "0.63828125000000002"
      ]
     },
     "execution_count": 10,
     "metadata": {},
     "output_type": "execute_result"
    }
   ],
   "source": [
    "bestmodel_forward[\"model\"].score(X[list(bestmodel_forward[\"feature\"])], y)"
   ]
  },
  {
   "cell_type": "code",
   "execution_count": 13,
   "metadata": {},
   "outputs": [
    {
     "name": "stdout",
     "output_type": "stream",
     "text": [
      "('Logred', '             precision    recall  f1-score   support\\n\\n          0       0.68      0.52      0.59      6400\\n          1       0.61      0.75      0.68      6400\\n\\navg / total       0.65      0.64      0.63     12800\\n')\n"
     ]
    },
    {
     "data": {
      "image/png": "[encoded data removed]",
      "text/plain": [
       "<matplotlib.figure.Figure at 0x7fe6dcd84750>"
      ]
     },
     "metadata": {},
     "output_type": "display_data"
    }
   ],
   "source": [
    "from sklearn import metrics\n",
    "from sklearn.metrics import classification_report\n",
    "from multiprocessing import Process, Lock, Manager\n",
    "import matplotlib.pyplot as plt\n",
    "\n",
    "manager = Manager()\n",
    "return_dict_logred=manager.dict()\n",
    "# Compute ROC curve and AUC (Area under the Curve)\n",
    "false_positive_rate, true_positive_rate, thresholds = metrics.roc_curve(y, y_predicted)\n",
    "    \n",
    "roc_auc_logred = metrics.auc(false_positive_rate, true_positive_rate)\n",
    "return_dict_logred['roc_auc_logred']=roc_auc_logred\n",
    "return_dict_logred['conf_mat_logred']=conf_mat_logred_training\n",
    "    \n",
    "report = classification_report(y, y_predicted)\n",
    "print(\"Logred\",report)\n",
    "    \n",
    "## Plot ROC Curve\n",
    "plt.title(\"Logistic Regression\")\n",
    "plt.plot(false_positive_rate, true_positive_rate, 'b',\n",
    "label='AUC = %0.2f'% roc_auc_logred)\n",
    "plt.legend(loc='lower right')\n",
    "plt.plot([0,1],[0,1],'r--')\n",
    "plt.xlim([0.0,1.0])\n",
    "plt.ylim([0.0,1.0])\n",
    "plt.ylabel('True Positive Rate')\n",
    "plt.xlabel('False Positive Rate')\n",
    "plt.show()"
   ]
  }
 ],
 "metadata": {
  "kernelspec": {
   "display_name": "Python 2",
   "language": "python",
   "name": "python2"
  },
  "language_info": {
   "codemirror_mode": {
    "name": "ipython",
    "version": 2
   },
   "file_extension": ".py",
   "mimetype": "text/x-python",
   "name": "python",
   "nbconvert_exporter": "python",
   "pygments_lexer": "ipython2",
   "version": "2.7.12"
  }
 },
 "nbformat": 4,
 "nbformat_minor": 2
}
